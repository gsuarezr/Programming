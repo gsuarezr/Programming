{
 "cells": [
  {
   "cell_type": "markdown",
   "id": "ec8c178b-9f56-4ce5-869f-dea0432aeb7b",
   "metadata": {},
   "source": [
    "#### Importing our calculator class\n",
    "\n",
    "Our class was saved in a file called calculator.py, since this is in the same folder as this notebook we may just import it directly as with any other module"
   ]
  },
  {
   "cell_type": "code",
   "execution_count": 1,
   "id": "08e59104-9265-471b-9567-1995d32bde3b",
   "metadata": {},
   "outputs": [],
   "source": [
    "from calculator import calci"
   ]
  },
  {
   "cell_type": "code",
   "execution_count": 2,
   "id": "3774ffb7-f468-4dcd-b5b1-c279b7e2d66b",
   "metadata": {},
   "outputs": [
    {
     "name": "stdout",
     "output_type": "stream",
     "text": [
      "0\n"
     ]
    }
   ],
   "source": [
    "calculator=calci()"
   ]
  },
  {
   "cell_type": "code",
   "execution_count": null,
   "id": "66bbb3d8-0f9f-49f6-8a84-3357c79a4b90",
   "metadata": {},
   "outputs": [],
   "source": []
  }
 ],
 "metadata": {
  "kernelspec": {
   "display_name": "Python 3 (ipykernel)",
   "language": "python",
   "name": "python3"
  },
  "language_info": {
   "codemirror_mode": {
    "name": "ipython",
    "version": 3
   },
   "file_extension": ".py",
   "mimetype": "text/x-python",
   "name": "python",
   "nbconvert_exporter": "python",
   "pygments_lexer": "ipython3",
   "version": "3.9.1"
  }
 },
 "nbformat": 4,
 "nbformat_minor": 5
}
